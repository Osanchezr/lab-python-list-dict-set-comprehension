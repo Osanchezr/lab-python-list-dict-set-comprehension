{
 "cells": [
  {
   "cell_type": "markdown",
   "id": "25d7736c-ba17-4aff-b6bb-66eba20fbf4e",
   "metadata": {},
   "source": [
    "# Lab | List, Dict and Set Comprehension"
   ]
  },
  {
   "cell_type": "markdown",
   "id": "7dd3cbde-675a-4b81-92c3-f728846dbe06",
   "metadata": {},
   "source": [
    "## Exercise: Managing Customer Orders Optimized with Comprehension"
   ]
  },
  {
   "cell_type": "markdown",
   "id": "5d500160-2fb7-4777-b5e4-09d45ebaf328",
   "metadata": {},
   "source": [
    "In the previous exercise, you developed a program to manage customer orders and inventory. Now, let's take it a step further and incorporate comprehension into your code.\n",
    "\n",
    "Follow the steps below to complete the exercise:\n",
    "\n",
    "1. Review your code from the previous exercise and identify areas where you can apply comprehension to simplify and streamline your code. \n",
    "\n",
    "    - *Hint: Apply it to initialize inventory, updating the inventory and printing the updated inventory.*\n",
    "    \n",
    "    - For example, in initializing the inventory, we could have:\n",
    "    \n",
    "        ```python\n",
    "        def initialize_inventory(products):\n",
    "            inventory = {product: int(input(f\"Enter the quantity of {product}s available: \")) for product in products}\n",
    "            return inventory\n",
    "\n",
    "        ```\n",
    "<br>\n",
    "    \n",
    "    \n",
    "2. Modify the function get_customer_orders so it prompts the user to enter the number of customer orders and gathers the product names using a loop and user input. Use comprehension.\n",
    "\n",
    "3. Add a new function to calculate the total price of the customer order. For each product in customer_orders, prompt the user to enter the price of that product. Use comprehension to calculate the total price. Note: assume that the user can only have 1 unit of each product.\n",
    "\n",
    "4. Modify the update_inventory function to remove the product from the inventory if its quantity becomes zero after fulfilling the customer orders. Use comprehension to filter out the products with a quantity of zero from the inventory.\n",
    "\n",
    "5. Print the total price of the customer order.\n",
    "\n",
    "Your code should produce output similar to the following:\n",
    "\n",
    "```python\n",
    "Enter the quantity of t-shirts available:  5\n",
    "Enter the quantity of mugs available:  4\n",
    "Enter the quantity of hats available:  3\n",
    "Enter the quantity of books available:  2\n",
    "Enter the quantity of keychains available:  1\n",
    "Enter the number of customer orders:  2\n",
    "Enter the name of a product that a customer wants to order:  hat\n",
    "Enter the name of a product that a customer wants to order:  keychain\n",
    "\n",
    "Order Statistics:\n",
    "Total Products Ordered: 2\n",
    "Percentage of Unique Products Ordered: 40.0\n",
    "\n",
    "Updated Inventory:\n",
    "t-shirt: 5\n",
    "mug: 4\n",
    "hat: 2\n",
    "book: 2\n",
    "Enter the price of keychain:  5\n",
    "Enter the price of hat:  10\n",
    "Total Price: 15.0\n",
    "\n",
    "```\n"
   ]
  },
  {
   "cell_type": "code",
   "execution_count": 1,
   "id": "29ac790e",
   "metadata": {},
   "outputs": [],
   "source": [
    "#step 1\n",
    "\n",
    "def initialize_inventory(products):\n",
    "\n",
    "    inventory = {product:int(input(f\"Ingrese la cantidad de {product}\")) for product in products }    \n",
    "    return inventory "
   ]
  },
  {
   "cell_type": "code",
   "execution_count": 2,
   "id": "5fe8a243",
   "metadata": {},
   "outputs": [],
   "source": [
    "#step 2\n",
    "\n",
    "def get_customer_orders():\n",
    "\n",
    "    num_orders = int(input(\"Ingrese el número de ordenes de producto: \"))\n",
    "    customer_orders = {input(f\"Ingrese el nombre de la orden del producto {i+1}: \") for i in range(num_orders)}\n",
    "\n",
    "    return customer_orders "
   ]
  },
  {
   "cell_type": "code",
   "execution_count": 10,
   "id": "ea2426b0",
   "metadata": {},
   "outputs": [],
   "source": [
    "#step 3.1\n",
    "\n",
    "def calculate_total_price(customer_orders):\n",
    "    prices = [float(input(f\"Ingrese el precio de {product}: \")) for product in customer_orders]\n",
    "    total_price = sum(prices)\n",
    "\n",
    "    print(f\"Precio total: {total_price}\")\n"
   ]
  },
  {
   "cell_type": "code",
   "execution_count": 4,
   "id": "b8fac4b0",
   "metadata": {},
   "outputs": [],
   "source": [
    "#step 3\n",
    "\n",
    "def update_inventory(customer_orders, inventory):\n",
    "\n",
    "    inventory = {product:(quantity - 1 \n",
    "                if product in customer_orders and quantity > 0 else quantity) \n",
    "                for product,quantity in inventory.items()} \n",
    "\n",
    "    inventory = {product: quantity for product,quantity in inventory.items() if quantity > 0}      \n",
    "    \n",
    "    return inventory"
   ]
  },
  {
   "cell_type": "code",
   "execution_count": 5,
   "id": "5d781fb3",
   "metadata": {},
   "outputs": [],
   "source": [
    "#step 4\n",
    "\n",
    "def calculate_order_statistics(customer_orders, products):\n",
    "    total_product_order = len(customer_orders)\n",
    "    percentaje_product_order = total_product_order/len(products)*100\n",
    "\n",
    "    return total_product_order, percentaje_product_order"
   ]
  },
  {
   "cell_type": "code",
   "execution_count": 14,
   "id": "6426a5ad",
   "metadata": {},
   "outputs": [],
   "source": [
    "#step 5\n",
    "\n",
    "def print_order_statistics(order_statistics):\n",
    "    total_products_ordered, unique_products_percentage = order_statistics\n",
    "    print(\"Order Statistics:\")\n",
    "    print(f\"Total de productos pedidos : {order_statistics[0]}\")\n",
    "    print(f\"porcentaje de productos unicos vendidos :{order_statistics[1]:.2f}%\")"
   ]
  },
  {
   "cell_type": "code",
   "execution_count": 12,
   "id": "934a95cf",
   "metadata": {},
   "outputs": [],
   "source": [
    "#step 6\n",
    "\n",
    "def print_update_inventory(inventory):\n",
    "    print(\"inventario actualizado: \")\n",
    "    inventory =  {product: quantity for product, quantity in inventory.items()}\n",
    "    print(inventory)\n",
    "    "
   ]
  },
  {
   "cell_type": "code",
   "execution_count": 15,
   "id": "f9373527",
   "metadata": {},
   "outputs": [
    {
     "name": "stdout",
     "output_type": "stream",
     "text": [
      "Order Statistics:\n",
      "Total de productos pedidos : 3\n",
      "porcentaje de productos unicos vendidos :60.00%\n",
      "inventario actualizado: \n",
      "{'hat': 9, 'mug': 9, 'keychain': 10, 'book': 10, 't-shirt': 9}\n",
      "Precio total: 9.0\n"
     ]
    }
   ],
   "source": [
    "#step 7\n",
    "products = [\"hat\",\"mug\",\"keychain\",\"book\",\"t-shirt\"]\n",
    "\n",
    "inventory = initialize_inventory(products)\n",
    "customer_orders = get_customer_orders()\n",
    "inventory = update_inventory(customer_orders, inventory)\n",
    "order_statistics = calculate_order_statistics(customer_orders, products)\n",
    "print_order_statistics(order_statistics)\n",
    "print_update_inventory(inventory)\n",
    "calculate_total_price(customer_orders)\n"
   ]
  }
 ],
 "metadata": {
  "kernelspec": {
   "display_name": "Python 3 (ipykernel)",
   "language": "python",
   "name": "python3"
  },
  "language_info": {
   "codemirror_mode": {
    "name": "ipython",
    "version": 3
   },
   "file_extension": ".py",
   "mimetype": "text/x-python",
   "name": "python",
   "nbconvert_exporter": "python",
   "pygments_lexer": "ipython3",
   "version": "3.8.8"
  }
 },
 "nbformat": 4,
 "nbformat_minor": 5
}
